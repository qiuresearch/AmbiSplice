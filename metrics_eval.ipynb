{
 "cells": [
  {
   "cell_type": "code",
   "execution_count": 1,
   "id": "459f80a6",
   "metadata": {},
   "outputs": [],
   "source": [
    "import os\n",
    "import torch\n",
    "import numpy as np\n",
    "# load pt from local path\n",
    "eval_outputs_path = os.path.join('benchmarks', 'pangolin_final.1.0.3.v2', 'pangolin_test_eval_outputs.pt')"
   ]
  },
  {
   "cell_type": "code",
   "execution_count": null,
   "id": "aba3e30b",
   "metadata": {},
   "outputs": [],
   "source": [
    "eval_outputs = torch.load(eval_outputs_path)\n",
    "feats, preds = eval_outputs[0], eval_outputs[1]"
   ]
  },
  {
   "cell_type": "code",
   "execution_count": 8,
   "id": "0c804031",
   "metadata": {},
   "outputs": [
    {
     "name": "stdout",
     "output_type": "stream",
     "text": [
      "\n",
      "Feats Variables:\n",
      "Key                  Type                 Shape                     Dtype           Device          Requires Grad  \n",
      "--------------------------------------------------------------------------------------------------------------\n",
      "seq                  list                 (20000)                   -               -               -              \n",
      "seq_onehot           Tensor               (20000, 4, 15000)         torch.float32   cpu             False          \n",
      "cls                  Tensor               (20000, 4, 5000)          torch.int64     cpu             False          \n",
      "psi                  Tensor               (20000, 4, 5000)          torch.float32   cpu             False          \n",
      "chrom                list                 (20000)                   -               -               -              \n",
      "start                Tensor               (20000,)                  torch.int64     cpu             False          \n",
      "end                  Tensor               (20000,)                  torch.int64     cpu             False          \n",
      "strand               list                 (20000)                   -               -               -              \n",
      "--------------------------------------------------------------------------------------------------------------\n",
      "\n",
      "Preds Variables:\n",
      "Key                  Type                 Shape                     Dtype           Device          Requires Grad  \n",
      "--------------------------------------------------------------------------------------------------------------\n",
      "cls_logits           Tensor               (20000, 2, 4, 5000)       torch.float32   cpu             False          \n",
      "psi_logits           Tensor               (20000, 4, 5000)          torch.float32   cpu             False          \n",
      "cls                  Tensor               (20000, 2, 4, 5000)       torch.float32   cpu             False          \n",
      "psi                  Tensor               (20000, 4, 5000)          torch.float32   cpu             False          \n",
      "--------------------------------------------------------------------------------------------------------------\n"
     ]
    }
   ],
   "source": [
    "from AmbiSplice import utils\n",
    "utils.peekaboo_tensors(feats, prefix='Feats')\n",
    "utils.peekaboo_tensors(preds, prefix='Preds')"
   ]
  },
  {
   "cell_type": "code",
   "execution_count": null,
   "id": "0ba15efe",
   "metadata": {},
   "outputs": [
    {
     "name": "stderr",
     "output_type": "stream",
     "text": [
      "\u001b[32mINFO\u001b[0m \u001b[36m10/27 13:06:19\u001b[0m\u001b[33m rank_zero.wrapped_fn.41: \u001b[0mCalculating loss metrics...\u001b[0m\n",
      "\u001b[32mINFO\u001b[0m \u001b[36m10/27 13:06:20\u001b[0m\u001b[33m rank_zero.wrapped_fn.41: \u001b[0mCalculating eval metrics...\u001b[0m\n",
      "\u001b[32mINFO\u001b[0m \u001b[36m10/27 13:06:22\u001b[0m\u001b[33m rank_zero.wrapped_fn.41: \u001b[0mCalculating ROC and PRC metrics...\u001b[0m\n"
     ]
    },
    {
     "name": "stdout",
     "output_type": "stream",
     "text": [
      "Tissue 0 metrics:\n",
      "  cls_loss: 0.0520\n",
      "  psi_loss: 0.0637\n",
      "  loss: 0.1157\n",
      "  cls_precision: 0.5028\n",
      "  cls_recall: 0.8359\n",
      "  cls_f1: 0.4926\n",
      "  psi_mse: 0.0839\n",
      "  auprc: 0.5479\n",
      "  auroc: 0.9097\n"
     ]
    },
    {
     "name": "stderr",
     "output_type": "stream",
     "text": [
      "\u001b[32mINFO\u001b[0m \u001b[36m10/27 13:07:25\u001b[0m\u001b[33m rank_zero.wrapped_fn.41: \u001b[0mCalculating loss metrics...\u001b[0m\n",
      "\u001b[32mINFO\u001b[0m \u001b[36m10/27 13:07:26\u001b[0m\u001b[33m rank_zero.wrapped_fn.41: \u001b[0mCalculating eval metrics...\u001b[0m\n",
      "\u001b[32mINFO\u001b[0m \u001b[36m10/27 13:07:28\u001b[0m\u001b[33m rank_zero.wrapped_fn.41: \u001b[0mCalculating ROC and PRC metrics...\u001b[0m\n"
     ]
    },
    {
     "name": "stdout",
     "output_type": "stream",
     "text": [
      "Tissue 1 metrics:\n",
      "  cls_loss: 0.0150\n",
      "  psi_loss: 0.2674\n",
      "  loss: 0.2824\n",
      "  cls_precision: 0.5111\n",
      "  cls_recall: 0.8920\n",
      "  cls_f1: 0.5180\n",
      "  psi_mse: 0.1989\n",
      "  auprc: 0.5329\n",
      "  auroc: 0.9132\n"
     ]
    },
    {
     "name": "stderr",
     "output_type": "stream",
     "text": [
      "\u001b[32mINFO\u001b[0m \u001b[36m10/27 13:08:33\u001b[0m\u001b[33m rank_zero.wrapped_fn.41: \u001b[0mCalculating loss metrics...\u001b[0m\n",
      "\u001b[32mINFO\u001b[0m \u001b[36m10/27 13:08:34\u001b[0m\u001b[33m rank_zero.wrapped_fn.41: \u001b[0mCalculating eval metrics...\u001b[0m\n",
      "\u001b[32mINFO\u001b[0m \u001b[36m10/27 13:08:36\u001b[0m\u001b[33m rank_zero.wrapped_fn.41: \u001b[0mCalculating ROC and PRC metrics...\u001b[0m\n"
     ]
    },
    {
     "name": "stdout",
     "output_type": "stream",
     "text": [
      "Tissue 2 metrics:\n",
      "  cls_loss: 0.0037\n",
      "  psi_loss: 0.0272\n",
      "  loss: 0.0309\n",
      "  cls_precision: 0.5606\n",
      "  cls_recall: 0.8967\n",
      "  cls_f1: 0.6045\n",
      "  psi_mse: 0.0698\n",
      "  auprc: 0.5811\n",
      "  auroc: 0.8992\n"
     ]
    },
    {
     "name": "stderr",
     "output_type": "stream",
     "text": [
      "\u001b[32mINFO\u001b[0m \u001b[36m10/27 13:09:42\u001b[0m\u001b[33m rank_zero.wrapped_fn.41: \u001b[0mCalculating loss metrics...\u001b[0m\n",
      "\u001b[32mINFO\u001b[0m \u001b[36m10/27 13:09:44\u001b[0m\u001b[33m rank_zero.wrapped_fn.41: \u001b[0mCalculating eval metrics...\u001b[0m\n",
      "\u001b[32mINFO\u001b[0m \u001b[36m10/27 13:09:45\u001b[0m\u001b[33m rank_zero.wrapped_fn.41: \u001b[0mCalculating ROC and PRC metrics...\u001b[0m\n"
     ]
    },
    {
     "name": "stdout",
     "output_type": "stream",
     "text": [
      "Tissue 3 metrics:\n",
      "  cls_loss: 0.0030\n",
      "  psi_loss: 0.0524\n",
      "  loss: 0.0554\n",
      "  cls_precision: 0.6153\n",
      "  cls_recall: 0.8133\n",
      "  cls_f1: 0.6683\n",
      "  psi_mse: 0.0810\n",
      "  auprc: 0.5201\n",
      "  auroc: 0.8117\n"
     ]
    }
   ],
   "source": [
    "from AmbiSplice import loss_metrics\n",
    "\n",
    "for i in range(feats['cls'].shape[-2]):\n",
    "    tissue_feats = feats.copy()\n",
    "    tissue_feats['cls'] = tissue_feats['cls'][:, i, :]\n",
    "    tissue_feats['psi'] = tissue_feats['psi'][:, i, :]\n",
    "\n",
    "    tissue_preds = preds.copy()\n",
    "    tissue_preds['cls_logits'] = tissue_preds['cls_logits'][:, :, i, :]\n",
    "    tissue_preds['psi_logits'] = tissue_preds['psi_logits'][:, i, :]\n",
    "\n",
    "    tissue_preds['cls'] = torch.nn.functional.softmax(tissue_preds['cls_logits'], dim=1)\n",
    "    tissue_preds['psi'] = torch.nn.functional.sigmoid(tissue_preds['psi_logits'])\n",
    "\n",
    "    tissue_metrics = loss_metrics.calc_benchmark(tissue_preds, tissue_feats, keep_batchdim=False)\n",
    "    print(f\"Tissue {i} metrics:\")\n",
    "    for k, v in tissue_metrics.items():\n",
    "        if utils.is_scalar(v):\n",
    "            print(f\"  {k}: {v:.4f}\")"
   ]
  }
 ],
 "metadata": {
  "kernelspec": {
   "display_name": "base",
   "language": "python",
   "name": "python3"
  },
  "language_info": {
   "codemirror_mode": {
    "name": "ipython",
    "version": 3
   },
   "file_extension": ".py",
   "mimetype": "text/x-python",
   "name": "python",
   "nbconvert_exporter": "python",
   "pygments_lexer": "ipython3",
   "version": "3.12.2"
  }
 },
 "nbformat": 4,
 "nbformat_minor": 5
}
